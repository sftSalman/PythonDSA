{
 "cells": [
  {
   "cell_type": "code",
   "execution_count": 4,
   "metadata": {},
   "outputs": [],
   "source": [
    "class LinklistNode:\n",
    "    def __init__(self,value,nextNode=None):\n",
    "        self.value = value\n",
    "        self.nextNode = nextNode\n",
    "        \n",
    "        "
   ]
  },
  {
   "cell_type": "code",
   "execution_count": 5,
   "metadata": {},
   "outputs": [],
   "source": [
    "node1 = LinklistNode('3')\n",
    "node2 = LinklistNode('7')\n",
    "node3 = LinklistNode('10')\n",
    "\n",
    "\n",
    "node1.nextNode = node2\n",
    "node2.nextNode = node3\n"
   ]
  },
  {
   "cell_type": "code",
   "execution_count": 7,
   "metadata": {},
   "outputs": [
    {
     "name": "stdout",
     "output_type": "stream",
     "text": [
      "3 -> 7 -> 10 -> None\n"
     ]
    }
   ],
   "source": [
    "current_node = node1\n",
    "while True:\n",
    "    print (current_node.value, '->',end=' ')\n",
    "\n",
    "    if current_node.nextNode is None:\n",
    "        print('None')\n",
    "        break\n",
    "\n",
    "    current_node = current_node.nextNode\n",
    "\n",
    "\n"
   ]
  },
  {
   "cell_type": "code",
   "execution_count": 18,
   "metadata": {},
   "outputs": [],
   "source": [
    "class LinklistNode:\n",
    "    def __init__(self,value,nextNode=None):\n",
    "        self.value = value\n",
    "        self.nextNode = nextNode\n",
    "        \n",
    "        \n",
    "\n",
    "class linkedlist:\n",
    "    def __init__(self,head=None) :\n",
    "        self.head = head\n",
    "\n",
    "    def insert (self,value):\n",
    "        node = LinklistNode(value)\n",
    "        if self.head is None:\n",
    "            self.head = node\n",
    "            return \n",
    "        \n",
    "        current_node = self.head\n",
    "\n",
    "        while True :\n",
    "            if current_node.nextNode is None :\n",
    "                current_node.nextNode= node\n",
    "                break \n",
    "            current_node = current_node.nextNode\n",
    "\n",
    "\n",
    "    def printLinkedList(self):\n",
    "        current_node = self.head\n",
    "        while current_node is not None:\n",
    "           # print(current_node.value,'->', end=\" \")\n",
    "            print (current_node.value, '->',end=' ')\n",
    "            current_node = current_node.nextNode\n",
    "\n",
    "            print('none')\n",
    "\n",
    "\n"
   ]
  },
  {
   "cell_type": "code",
   "execution_count": 19,
   "metadata": {},
   "outputs": [
    {
     "name": "stdout",
     "output_type": "stream",
     "text": [
      "3 -> none\n",
      "3 -> none\n",
      "4 -> none\n",
      "3 -> none\n",
      "4 -> none\n",
      "5 -> none\n"
     ]
    }
   ],
   "source": [
    "l1 = linkedlist()\n",
    "l1.printLinkedList()\n",
    "l1.insert('3')\n",
    "l1.printLinkedList()\n",
    "l1.insert('4')\n",
    "l1.printLinkedList()\n",
    "l1.insert('5')\n",
    "l1.printLinkedList()\n",
    "\n"
   ]
  },
  {
   "cell_type": "code",
   "execution_count": null,
   "metadata": {},
   "outputs": [],
   "source": []
  }
 ],
 "metadata": {
  "kernelspec": {
   "display_name": "tf_gpu",
   "language": "python",
   "name": "python3"
  },
  "language_info": {
   "codemirror_mode": {
    "name": "ipython",
    "version": 3
   },
   "file_extension": ".py",
   "mimetype": "text/x-python",
   "name": "python",
   "nbconvert_exporter": "python",
   "pygments_lexer": "ipython3",
   "version": "3.9.15"
  },
  "orig_nbformat": 4
 },
 "nbformat": 4,
 "nbformat_minor": 2
}
